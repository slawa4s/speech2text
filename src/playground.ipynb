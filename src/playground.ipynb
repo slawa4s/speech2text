{
 "cells": [
  {
   "cell_type": "code",
   "execution_count": 38,
   "id": "initial_id",
   "metadata": {
    "collapsed": true,
    "ExecuteTime": {
     "end_time": "2023-11-12T17:21:23.700316Z",
     "start_time": "2023-11-12T17:21:23.681237Z"
    }
   },
   "outputs": [],
   "source": [
    "import torch\n",
    "import wave\n",
    "import torchaudio\n",
    "from sympy.codegen.fnodes import dsign\n",
    "from transformers import Speech2TextProcessor, Speech2TextForConditionalGeneration\n",
    "from datasets import load_dataset"
   ]
  },
  {
   "cell_type": "code",
   "execution_count": 39,
   "outputs": [
    {
     "name": "stderr",
     "output_type": "stream",
     "text": [
      "Some weights of Speech2TextForConditionalGeneration were not initialized from the model checkpoint at facebook/s2t-small-librispeech-asr and are newly initialized: ['model.encoder.embed_positions.weights', 'model.decoder.embed_positions.weights']\n",
      "You should probably TRAIN this model on a down-stream task to be able to use it for predictions and inference.\n"
     ]
    }
   ],
   "source": [
    "model = Speech2TextForConditionalGeneration.from_pretrained(\"facebook/s2t-small-librispeech-asr\")\n",
    "processor = Speech2TextProcessor.from_pretrained(\"facebook/s2t-small-librispeech-asr\")\n",
    "\n",
    "\n",
    "ds_russian = load_dataset(\"bond005/sberdevices_golos_10h_crowd\", split=\"validation\")"
   ],
   "metadata": {
    "collapsed": false,
    "ExecuteTime": {
     "end_time": "2023-11-12T17:21:28.679259Z",
     "start_time": "2023-11-12T17:21:26.365009Z"
    }
   },
   "id": "f3791d74d2c448b2"
  },
  {
   "cell_type": "code",
   "execution_count": 40,
   "outputs": [],
   "source": [
    "inputs = processor(ds_russian[0][\"audio\"][\"array\"], sampling_rate=ds_russian[0][\"audio\"][\"sampling_rate\"], return_tensors=\"pt\")\n",
    "generated_ids = model.generate(inputs[\"input_features\"], attention_mask=inputs[\"attention_mask\"])\n",
    "\n",
    "transcription = processor.batch_decode(generated_ids, skip_special_tokens=True)"
   ],
   "metadata": {
    "collapsed": false,
    "ExecuteTime": {
     "end_time": "2023-11-12T17:21:33.409481Z",
     "start_time": "2023-11-12T17:21:33.232472Z"
    }
   },
   "id": "ce71a5649904d930"
  },
  {
   "cell_type": "code",
   "execution_count": 44,
   "outputs": [
    {
     "data": {
      "text/plain": "{'path': None,\n 'array': array([ 0.        ,  0.        ,  0.        , ..., -0.00256348,\n        -0.00299072, -0.00296021]),\n 'sampling_rate': 16000}"
     },
     "execution_count": 44,
     "metadata": {},
     "output_type": "execute_result"
    }
   ],
   "source": [
    "ds_russian[0][\"audio\"]"
   ],
   "metadata": {
    "collapsed": false,
    "ExecuteTime": {
     "end_time": "2023-11-12T17:23:05.588704Z",
     "start_time": "2023-11-12T17:23:05.580325Z"
    }
   },
   "id": "40205655ce54a24c"
  },
  {
   "cell_type": "code",
   "execution_count": 43,
   "outputs": [],
   "source": [
    "def bytes_to_wav(data):\n",
    "    output_wav_file = 'output.wav'\n",
    "    sample_width = 2  # in bytes, e.g., 16-bit audio has a sample width of 2 bytes\n",
    "    channels = 1  # 1 for mono, 2 for stereo\n",
    "    sample_rate = 44100  # Samples per second\n",
    "    with wave.open(output_wav_file, 'wb') as wav_file:\n",
    "        wav_file.setnchannels(channels)\n",
    "        wav_file.setsampwidth(sample_width)\n",
    "        wav_file.setframerate(sample_rate)\n",
    "        wav_file.writeframes(data)\n",
    "\n",
    "# Example usage:\n",
    "raw_audio_bytes = ds_russian[0][\"audio\"][\"array\"]\n",
    "\n",
    "bytes_to_wav(raw_audio_bytes)"
   ],
   "metadata": {
    "collapsed": false,
    "ExecuteTime": {
     "end_time": "2023-11-12T17:22:17.766933Z",
     "start_time": "2023-11-12T17:22:17.761839Z"
    }
   },
   "id": "5c7a45c80abd6cf3"
  },
  {
   "cell_type": "code",
   "execution_count": 37,
   "outputs": [
    {
     "data": {
      "text/plain": "{'audio': Audio(sampling_rate=16000, mono=True, decode=True, id=None),\n 'transcription': Value(dtype='string', id=None)}"
     },
     "execution_count": 37,
     "metadata": {},
     "output_type": "execute_result"
    }
   ],
   "source": [
    "ds_russian.features"
   ],
   "metadata": {
    "collapsed": false,
    "ExecuteTime": {
     "end_time": "2023-11-12T17:21:11.702068Z",
     "start_time": "2023-11-12T17:21:11.697574Z"
    }
   },
   "id": "3181d1c71eb2e34c"
  }
 ],
 "metadata": {
  "kernelspec": {
   "display_name": "Python 3",
   "language": "python",
   "name": "python3"
  },
  "language_info": {
   "codemirror_mode": {
    "name": "ipython",
    "version": 2
   },
   "file_extension": ".py",
   "mimetype": "text/x-python",
   "name": "python",
   "nbconvert_exporter": "python",
   "pygments_lexer": "ipython2",
   "version": "2.7.6"
  }
 },
 "nbformat": 4,
 "nbformat_minor": 5
}
